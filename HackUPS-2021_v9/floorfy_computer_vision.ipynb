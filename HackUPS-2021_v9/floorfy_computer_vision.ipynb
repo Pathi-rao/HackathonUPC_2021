{
 "cells": [
  {
   "cell_type": "code",
   "metadata": {
    "cell_id": "00000-febcaea3-2d66-4066-bedb-2bf2ae38fb4d",
    "deepnote_cell_type": "code"
   },
   "source": "import json\nimport pandas as pd\nimport numpy as np\n",
   "execution_count": 120,
   "outputs": []
  },
  {
   "cell_type": "code",
   "metadata": {
    "cell_id": "00001-49474419-0d6b-478f-887d-e90ef9a039d4",
    "deepnote_cell_type": "code"
   },
   "source": "dataset = pd.read_json('user_visit_analytics_updated_complete.json',lines=True)",
   "execution_count": 21,
   "outputs": []
  },
  {
   "cell_type": "code",
   "metadata": {
    "cell_id": "00002-7f6205eb-2014-4b78-bbe5-8b7b3e56cd4c",
    "deepnote_cell_type": "code"
   },
   "source": "display(dataset.head())",
   "execution_count": 24,
   "outputs": [
    {
     "data": {
      "text/html": "<div>\n<style scoped>\n    .dataframe tbody tr th:only-of-type {\n        vertical-align: middle;\n    }\n\n    .dataframe tbody tr th {\n        vertical-align: top;\n    }\n\n    .dataframe thead th {\n        text-align: right;\n    }\n</style>\n<table border=\"1\" class=\"dataframe\">\n  <thead>\n    <tr style=\"text-align: right;\">\n      <th></th>\n      <th>_id</th>\n      <th>id</th>\n      <th>uid</th>\n      <th>webGlSupported</th>\n      <th>browser</th>\n      <th>route</th>\n      <th>property_id</th>\n      <th>total_time</th>\n      <th>agency_id</th>\n      <th>device</th>\n      <th>browser_name</th>\n      <th>operating_system</th>\n      <th>query</th>\n      <th>mode</th>\n      <th>date</th>\n      <th>street</th>\n      <th>city</th>\n    </tr>\n  </thead>\n  <tbody>\n    <tr>\n      <th>0</th>\n      <td>{'$oid': '609b79e67b2e4eac027b23ca'}</td>\n      <td>53970995</td>\n      <td></td>\n      <td>true</td>\n      <td>{'navigator': {'platform': 'iPhone', 'appCodeN...</td>\n      <td>[{'id': 'equirectangular_482665_605b63c2029fe'...</td>\n      <td>482665</td>\n      <td>26</td>\n      <td>225</td>\n      <td>Mobile</td>\n      <td>Chrome</td>\n      <td>iOS</td>\n      <td>play=no</td>\n      <td>360</td>\n      <td>{'$date': 1620802022000}</td>\n      <td>Bulevar de el ejido</td>\n      <td>Ejido (el)</td>\n    </tr>\n    <tr>\n      <th>1</th>\n      <td>{'$oid': '609acea47b2e4e830b7b23c8'}</td>\n      <td>53914615</td>\n      <td></td>\n      <td>true</td>\n      <td>{'navigator': {'platform': 'MacIntel', 'appCod...</td>\n      <td>[{'id': 'equirectangular_427924_5eea074db502c'...</td>\n      <td>427924</td>\n      <td>257</td>\n      <td>339</td>\n      <td>Desktop</td>\n      <td>Safari</td>\n      <td>macOS</td>\n      <td>NaN</td>\n      <td>360</td>\n      <td>{'$date': 1620758180000}</td>\n      <td>Víctor</td>\n      <td>Mutxamel</td>\n    </tr>\n    <tr>\n      <th>2</th>\n      <td>{'$oid': '609acc5e7b2e4e61017b23c6'}</td>\n      <td>53912727</td>\n      <td></td>\n      <td>true</td>\n      <td>{'navigator': {'platform': 'Win32', 'appCodeNa...</td>\n      <td>[{'id': 'equirectangular_877907_6091af1f6812c'...</td>\n      <td>877907</td>\n      <td>487</td>\n      <td>339</td>\n      <td>Desktop</td>\n      <td>Chrome</td>\n      <td>Windows</td>\n      <td>NaN</td>\n      <td>360</td>\n      <td>{'$date': 1620757598000}</td>\n      <td>Doctor Esquerdo</td>\n      <td>Madrid</td>\n    </tr>\n    <tr>\n      <th>3</th>\n      <td>{'$oid': '609aca737b2e4eab637b23d7'}</td>\n      <td>53911346</td>\n      <td></td>\n      <td>true</td>\n      <td>{'navigator': {'platform': 'Win32', 'appCodeNa...</td>\n      <td>[{'id': 'equirectangular_877907_6091af1f6812c'...</td>\n      <td>877907</td>\n      <td>507</td>\n      <td>339</td>\n      <td>Desktop</td>\n      <td>Chrome</td>\n      <td>Windows</td>\n      <td>NaN</td>\n      <td>360</td>\n      <td>{'$date': 1620757107000}</td>\n      <td>Doctor Esquerdo</td>\n      <td>Madrid</td>\n    </tr>\n    <tr>\n      <th>4</th>\n      <td>{'$oid': '609ac8a97b2e4ece5e7b23dc'}</td>\n      <td>53910795</td>\n      <td></td>\n      <td>true</td>\n      <td>{'navigator': {'platform': 'iPhone', 'appCodeN...</td>\n      <td>[{'id': 'equirectangular_878056_6092a3c137813'...</td>\n      <td>878056</td>\n      <td>280</td>\n      <td>339</td>\n      <td>Mobile</td>\n      <td>None</td>\n      <td>iOS</td>\n      <td>NaN</td>\n      <td>360</td>\n      <td>{'$date': 1620756648000}</td>\n      <td>Calderón de la Barca 42</td>\n      <td>Barcelona</td>\n    </tr>\n  </tbody>\n</table>\n</div>",
      "text/plain": "                                    _id        id uid webGlSupported  \\\n0  {'$oid': '609b79e67b2e4eac027b23ca'}  53970995               true   \n1  {'$oid': '609acea47b2e4e830b7b23c8'}  53914615               true   \n2  {'$oid': '609acc5e7b2e4e61017b23c6'}  53912727               true   \n3  {'$oid': '609aca737b2e4eab637b23d7'}  53911346               true   \n4  {'$oid': '609ac8a97b2e4ece5e7b23dc'}  53910795               true   \n\n                                             browser  \\\n0  {'navigator': {'platform': 'iPhone', 'appCodeN...   \n1  {'navigator': {'platform': 'MacIntel', 'appCod...   \n2  {'navigator': {'platform': 'Win32', 'appCodeNa...   \n3  {'navigator': {'platform': 'Win32', 'appCodeNa...   \n4  {'navigator': {'platform': 'iPhone', 'appCodeN...   \n\n                                               route  property_id  total_time  \\\n0  [{'id': 'equirectangular_482665_605b63c2029fe'...       482665          26   \n1  [{'id': 'equirectangular_427924_5eea074db502c'...       427924         257   \n2  [{'id': 'equirectangular_877907_6091af1f6812c'...       877907         487   \n3  [{'id': 'equirectangular_877907_6091af1f6812c'...       877907         507   \n4  [{'id': 'equirectangular_878056_6092a3c137813'...       878056         280   \n\n   agency_id   device browser_name operating_system    query mode  \\\n0        225   Mobile       Chrome              iOS  play=no  360   \n1        339  Desktop       Safari            macOS      NaN  360   \n2        339  Desktop       Chrome          Windows      NaN  360   \n3        339  Desktop       Chrome          Windows      NaN  360   \n4        339   Mobile         None              iOS      NaN  360   \n\n                       date                    street        city  \n0  {'$date': 1620802022000}       Bulevar de el ejido  Ejido (el)  \n1  {'$date': 1620758180000}                    Víctor    Mutxamel  \n2  {'$date': 1620757598000}           Doctor Esquerdo      Madrid  \n3  {'$date': 1620757107000}           Doctor Esquerdo      Madrid  \n4  {'$date': 1620756648000}  Calderón de la Barca 42    Barcelona  "
     },
     "metadata": {},
     "output_type": "display_data"
    }
   ]
  },
  {
   "cell_type": "code",
   "metadata": {
    "scrolled": true,
    "cell_id": "00003-f11684aa-b6c9-40b0-9062-808b835021ab",
    "deepnote_cell_type": "code"
   },
   "source": "print(type(dataset))",
   "execution_count": 26,
   "outputs": [
    {
     "name": "stdout",
     "output_type": "stream",
     "text": "<class 'pandas.core.frame.DataFrame'>\n"
    }
   ]
  },
  {
   "cell_type": "code",
   "metadata": {
    "cell_id": "00004-84e1142a-4840-4e5e-8423-e3fda6fe1037",
    "deepnote_cell_type": "code"
   },
   "source": "df_new = dataset[['property_id','route']]",
   "execution_count": 31,
   "outputs": []
  },
  {
   "cell_type": "code",
   "metadata": {
    "cell_id": "00005-4f4e4b6e-a416-40e4-93d7-0b7abd730cdb",
    "deepnote_cell_type": "code"
   },
   "source": "df_new",
   "execution_count": 32,
   "outputs": [
    {
     "data": {
      "text/html": "<div>\n<style scoped>\n    .dataframe tbody tr th:only-of-type {\n        vertical-align: middle;\n    }\n\n    .dataframe tbody tr th {\n        vertical-align: top;\n    }\n\n    .dataframe thead th {\n        text-align: right;\n    }\n</style>\n<table border=\"1\" class=\"dataframe\">\n  <thead>\n    <tr style=\"text-align: right;\">\n      <th></th>\n      <th>property_id</th>\n      <th>route</th>\n    </tr>\n  </thead>\n  <tbody>\n    <tr>\n      <th>0</th>\n      <td>482665</td>\n      <td>[{'id': 'equirectangular_482665_605b63c2029fe'...</td>\n    </tr>\n    <tr>\n      <th>1</th>\n      <td>427924</td>\n      <td>[{'id': 'equirectangular_427924_5eea074db502c'...</td>\n    </tr>\n    <tr>\n      <th>2</th>\n      <td>877907</td>\n      <td>[{'id': 'equirectangular_877907_6091af1f6812c'...</td>\n    </tr>\n    <tr>\n      <th>3</th>\n      <td>877907</td>\n      <td>[{'id': 'equirectangular_877907_6091af1f6812c'...</td>\n    </tr>\n    <tr>\n      <th>4</th>\n      <td>878056</td>\n      <td>[{'id': 'equirectangular_878056_6092a3c137813'...</td>\n    </tr>\n    <tr>\n      <th>...</th>\n      <td>...</td>\n      <td>...</td>\n    </tr>\n    <tr>\n      <th>9989</th>\n      <td>96011</td>\n      <td>[{'id': 'equirectangular_96011_5e553e98e032f',...</td>\n    </tr>\n    <tr>\n      <th>9990</th>\n      <td>40625</td>\n      <td>[{'id': 'equirectangular_40625_6048c5b526221',...</td>\n    </tr>\n    <tr>\n      <th>9991</th>\n      <td>205213</td>\n      <td>[{'id': 'equirectangular_205213_5c5008382aa09'...</td>\n    </tr>\n    <tr>\n      <th>9992</th>\n      <td>140210</td>\n      <td>[{'id': 'equirectangular_140210_607a88cbcd683'...</td>\n    </tr>\n    <tr>\n      <th>9993</th>\n      <td>67059</td>\n      <td>[{'id': 'equirectangular_67059_5f1b161a0195b',...</td>\n    </tr>\n  </tbody>\n</table>\n<p>9994 rows × 2 columns</p>\n</div>",
      "text/plain": "      property_id                                              route\n0          482665  [{'id': 'equirectangular_482665_605b63c2029fe'...\n1          427924  [{'id': 'equirectangular_427924_5eea074db502c'...\n2          877907  [{'id': 'equirectangular_877907_6091af1f6812c'...\n3          877907  [{'id': 'equirectangular_877907_6091af1f6812c'...\n4          878056  [{'id': 'equirectangular_878056_6092a3c137813'...\n...           ...                                                ...\n9989        96011  [{'id': 'equirectangular_96011_5e553e98e032f',...\n9990        40625  [{'id': 'equirectangular_40625_6048c5b526221',...\n9991       205213  [{'id': 'equirectangular_205213_5c5008382aa09'...\n9992       140210  [{'id': 'equirectangular_140210_607a88cbcd683'...\n9993        67059  [{'id': 'equirectangular_67059_5f1b161a0195b',...\n\n[9994 rows x 2 columns]"
     },
     "execution_count": 32,
     "metadata": {},
     "output_type": "execute_result"
    }
   ]
  },
  {
   "cell_type": "code",
   "metadata": {
    "cell_id": "00006-a49cb71c-6208-48dc-85f7-b5a1327ccfca",
    "deepnote_cell_type": "code"
   },
   "source": "test = df_new.route[10][3]\nprint(test)\nprint(test['title'])",
   "execution_count": 70,
   "outputs": [
    {
     "name": "stdout",
     "output_type": "stream",
     "text": "{'id': 'equirectangular_874523_6086cbb9e6e37', 'isAutomatic': 'false', 'sceneVRmode': 'false', 'scenetransmode': 'menu', 'scenetime': '4.917', 'title': 'Baño'}\nBaño\n"
    }
   ]
  },
  {
   "cell_type": "code",
   "metadata": {
    "cell_id": "00007-07c284fb-c674-4a61-840f-ada59f8cd7a6",
    "deepnote_cell_type": "code"
   },
   "source": "df_new['property_id'][0]",
   "execution_count": 64,
   "outputs": [
    {
     "data": {
      "text/plain": "482665"
     },
     "execution_count": 64,
     "metadata": {},
     "output_type": "execute_result"
    }
   ]
  },
  {
   "cell_type": "code",
   "metadata": {
    "cell_id": "00008-78e2b02a-63b7-450a-bb6b-47a515afd1d2",
    "deepnote_cell_type": "code"
   },
   "source": "folder_name = []\nimage_id = []\nroom_type = []\nfor i in range(df_new.shape[0]):\n    for j in range(len(df_new.route[i])):\n        folder_name.append(df_new['property_id'][i])\n        route_holder = df_new.route[i][j]\n        image_id.append(route_holder['id'])\n        try:\n            room_type.append(route_holder['title'])\n        except:\n            room_type.append(np.nan)\n    ",
   "execution_count": 121,
   "outputs": []
  },
  {
   "cell_type": "code",
   "metadata": {
    "cell_id": "00009-9e638dfc-f16e-4e9d-91db-ff1cece97c95",
    "deepnote_cell_type": "code"
   },
   "source": "df_labels = pd.DataFrame({'image_id':image_id ,'room_type':room_type,'folder':folder_name})\ndf_labels",
   "execution_count": 122,
   "outputs": [
    {
     "data": {
      "text/html": "<div>\n<style scoped>\n    .dataframe tbody tr th:only-of-type {\n        vertical-align: middle;\n    }\n\n    .dataframe tbody tr th {\n        vertical-align: top;\n    }\n\n    .dataframe thead th {\n        text-align: right;\n    }\n</style>\n<table border=\"1\" class=\"dataframe\">\n  <thead>\n    <tr style=\"text-align: right;\">\n      <th></th>\n      <th>image_id</th>\n      <th>room_type</th>\n      <th>folder</th>\n    </tr>\n  </thead>\n  <tbody>\n    <tr>\n      <th>0</th>\n      <td>equirectangular_482665_605b63c2029fe</td>\n      <td>Pasillo</td>\n      <td>482665</td>\n    </tr>\n    <tr>\n      <th>1</th>\n      <td>equirectangular_482665_605b63dd57ca7</td>\n      <td>Pasillo</td>\n      <td>482665</td>\n    </tr>\n    <tr>\n      <th>2</th>\n      <td>equirectangular_482665_605b63f13b218</td>\n      <td>Cocina</td>\n      <td>482665</td>\n    </tr>\n    <tr>\n      <th>3</th>\n      <td>equirectangular_482665_605b63e01845f</td>\n      <td>Salón</td>\n      <td>482665</td>\n    </tr>\n    <tr>\n      <th>4</th>\n      <td>equirectangular_482665_605b63cb801bb</td>\n      <td>Pasillo</td>\n      <td>482665</td>\n    </tr>\n    <tr>\n      <th>...</th>\n      <td>...</td>\n      <td>...</td>\n      <td>...</td>\n    </tr>\n    <tr>\n      <th>200780</th>\n      <td>equirectangular_67059_5f1b161a0195b</td>\n      <td>Pasillo</td>\n      <td>67059</td>\n    </tr>\n    <tr>\n      <th>200781</th>\n      <td>equirectangular_67059_5f1b15b0d9698</td>\n      <td>Pasillo</td>\n      <td>67059</td>\n    </tr>\n    <tr>\n      <th>200782</th>\n      <td>equirectangular_67059_5f1b159a6eb87</td>\n      <td>Pasillo</td>\n      <td>67059</td>\n    </tr>\n    <tr>\n      <th>200783</th>\n      <td>equirectangular_67059_5f1b158784081</td>\n      <td>Pasillo</td>\n      <td>67059</td>\n    </tr>\n    <tr>\n      <th>200784</th>\n      <td>equirectangular_67059_5f1b15736f6d3</td>\n      <td>Dormitorio</td>\n      <td>67059</td>\n    </tr>\n  </tbody>\n</table>\n<p>200785 rows × 3 columns</p>\n</div>",
      "text/plain": "                                    image_id   room_type  folder\n0       equirectangular_482665_605b63c2029fe     Pasillo  482665\n1       equirectangular_482665_605b63dd57ca7     Pasillo  482665\n2       equirectangular_482665_605b63f13b218      Cocina  482665\n3       equirectangular_482665_605b63e01845f       Salón  482665\n4       equirectangular_482665_605b63cb801bb     Pasillo  482665\n...                                      ...         ...     ...\n200780   equirectangular_67059_5f1b161a0195b     Pasillo   67059\n200781   equirectangular_67059_5f1b15b0d9698     Pasillo   67059\n200782   equirectangular_67059_5f1b159a6eb87     Pasillo   67059\n200783   equirectangular_67059_5f1b158784081     Pasillo   67059\n200784   equirectangular_67059_5f1b15736f6d3  Dormitorio   67059\n\n[200785 rows x 3 columns]"
     },
     "execution_count": 122,
     "metadata": {},
     "output_type": "execute_result"
    }
   ]
  },
  {
   "cell_type": "code",
   "metadata": {
    "cell_id": "00010-9d151b49-4a9a-47ea-85d5-63eab7097a63",
    "deepnote_cell_type": "code"
   },
   "source": "df_labels.isnull().sum()",
   "execution_count": 128,
   "outputs": [
    {
     "data": {
      "text/plain": "image_id     0\nroom_type    0\nfolder       0\ndtype: int64"
     },
     "execution_count": 128,
     "metadata": {},
     "output_type": "execute_result"
    }
   ]
  },
  {
   "cell_type": "code",
   "metadata": {
    "cell_id": "00011-bbf6be28-822b-4337-815f-fd8be9388cb2",
    "deepnote_cell_type": "code"
   },
   "source": "df_labels = df_labels.dropna()",
   "execution_count": 127,
   "outputs": []
  },
  {
   "cell_type": "code",
   "metadata": {
    "cell_id": "00012-df573774-03e5-4c87-8561-319a7aeb0a66",
    "deepnote_cell_type": "code"
   },
   "source": "df_labels.to_csv('image_labels.csv',index=False)",
   "execution_count": 129,
   "outputs": []
  },
  {
   "cell_type": "code",
   "source": "new_df = []\nfor i in file_name:\n    for j in range(len(df_labels)):\n        if i == df_labels.image_id[j]:\n            new_df.append(df_labels[j])",
   "metadata": {
    "tags": [],
    "cell_id": "00013-af909f58-d467-4e8f-9689-527f7155c0bb",
    "deepnote_cell_type": "code"
   },
   "outputs": [],
   "execution_count": null
  },
  {
   "cell_type": "code",
   "source": "'''\nnew_list\ncheck each filename  with new_list :\n    check room_type for filename then change path to folder with room_type \n'''",
   "metadata": {
    "tags": [],
    "cell_id": "00014-8cf3edfe-05e9-436c-897a-4286f34ae3bd",
    "deepnote_cell_type": "code"
   },
   "outputs": [],
   "execution_count": null
  },
  {
   "cell_type": "code",
   "source": "",
   "metadata": {
    "tags": [],
    "cell_id": "00015-4b6d8559-97a6-48ef-996e-6c0d0ebcfddb",
    "deepnote_cell_type": "code"
   },
   "outputs": [],
   "execution_count": null
  },
  {
   "cell_type": "markdown",
   "source": "<a style='text-decoration:none;line-height:16px;display:flex;color:#5B5B62;padding:10px;justify-content:end;' href='https://deepnote.com?utm_source=created-in-deepnote-cell&projectId=daf0c31f-9556-4849-84a9-e7d5d07ce906' target=\"_blank\">\n<img alt='Created in deepnote.com' style='display:inline;max-height:16px;margin:0px;margin-right:7.5px;' src='data:image/svg+xml;base64,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' > </img>\nCreated in <span style='font-weight:600;margin-left:4px;'>Deepnote</span></a>",
   "metadata": {
    "tags": [],
    "created_in_deepnote_cell": true,
    "deepnote_cell_type": "markdown"
   }
  }
 ],
 "nbformat": 4,
 "nbformat_minor": 5,
 "metadata": {
  "kernelspec": {
   "display_name": "Python 3",
   "language": "python",
   "name": "python3"
  },
  "language_info": {
   "codemirror_mode": {
    "name": "ipython",
    "version": 3
   },
   "file_extension": ".py",
   "mimetype": "text/x-python",
   "name": "python",
   "nbconvert_exporter": "python",
   "pygments_lexer": "ipython3",
   "version": "3.8.8"
  },
  "deepnote_notebook_id": "f67505f8-3dfa-4dc0-b7b4-3dc2b8f37500",
  "deepnote": {},
  "deepnote_execution_queue": []
 }
}